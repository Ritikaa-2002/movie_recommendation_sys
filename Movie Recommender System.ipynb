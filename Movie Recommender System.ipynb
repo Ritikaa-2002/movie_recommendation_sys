{
 "cells": [
  {
   "cell_type": "code",
   "execution_count": 1,
   "id": "af64d2e3",
   "metadata": {},
   "outputs": [],
   "source": [
    "import numpy as np\n",
    "import pandas as pd\n",
    "import ast"
   ]
  },
  {
   "cell_type": "code",
   "execution_count": 2,
   "id": "5eba64f2",
   "metadata": {},
   "outputs": [],
   "source": [
    "movies = pd.read_csv(\"tmdb_5000_movies.csv\")\n",
    "credits = pd.read_csv(\"tmdb_5000_credits.csv\")"
   ]
  },
  {
   "cell_type": "code",
   "execution_count": 3,
   "id": "a043bcc5",
   "metadata": {},
   "outputs": [],
   "source": [
    "# this is a way to merge two datasets on the basis of title\n",
    "# as per shape ispe 24 columns hone chahiye lekiin since humne title ke basis pe add kiya h do title do baar add nahi hoga\n",
    "movies = movies.merge(credits,on='title')"
   ]
  },
  {
   "cell_type": "code",
   "execution_count": null,
   "id": "135ee82d",
   "metadata": {},
   "outputs": [],
   "source": [
    "movies.shape"
   ]
  },
  {
   "cell_type": "code",
   "execution_count": null,
   "id": "67cbf389",
   "metadata": {},
   "outputs": [],
   "source": [
    "movies.head(1)"
   ]
  },
  {
   "cell_type": "code",
   "execution_count": null,
   "id": "c4034dc3",
   "metadata": {},
   "outputs": [],
   "source": [
    "movies = movies[['movie_id', 'cast', 'crew','overview','title','genres' , 'keywords']]"
   ]
  },
  {
   "cell_type": "code",
   "execution_count": null,
   "id": "db59978b",
   "metadata": {},
   "outputs": [],
   "source": [
    "movies.head()"
   ]
  },
  {
   "cell_type": "code",
   "execution_count": null,
   "id": "3651fb22",
   "metadata": {},
   "outputs": [],
   "source": [
    "movies.isnull().sum()"
   ]
  },
  {
   "cell_type": "code",
   "execution_count": null,
   "id": "168302bd",
   "metadata": {},
   "outputs": [],
   "source": [
    "movies.dropna(inplace=True)\n",
    "# jyadda bda data nahi h isliye sirf drop krdiya hai \n",
    "movies.isnull().sum()"
   ]
  },
  {
   "cell_type": "code",
   "execution_count": null,
   "id": "33c714f9",
   "metadata": {},
   "outputs": [],
   "source": [
    "movies.duplicated().sum()"
   ]
  },
  {
   "cell_type": "code",
   "execution_count": null,
   "id": "8736a487",
   "metadata": {},
   "outputs": [],
   "source": [
    "movies.iloc[0].genres\n",
    "# its all in the form of dictionary we need to bring it in the form of array"
   ]
  },
  {
   "cell_type": "code",
   "execution_count": null,
   "id": "1c9ad886",
   "metadata": {},
   "outputs": [],
   "source": [
    "# now we will create a function jisme hum loop lgaenge\n",
    "def convert(obj):\n",
    "    L =[]\n",
    "    for i in ast.literal_eval(obj):\n",
    "        L.append(i['name'])\n",
    "    return L\n",
    "# agar yeh function lgate h toh error aaega kyuki yeh list of strings h isliye ek function aata h\n",
    "# literal_eval krke woh lgaenge"
   ]
  },
  {
   "cell_type": "code",
   "execution_count": null,
   "id": "4c9cdb30",
   "metadata": {},
   "outputs": [],
   "source": [
    "movies['genres']= movies['genres'].apply(convert)\n"
   ]
  },
  {
   "cell_type": "code",
   "execution_count": null,
   "id": "12b000f8",
   "metadata": {},
   "outputs": [],
   "source": [
    "movies.head(1)"
   ]
  },
  {
   "cell_type": "code",
   "execution_count": null,
   "id": "4ea9ab69",
   "metadata": {},
   "outputs": [],
   "source": [
    "# same thing on keywords column\n",
    "movies.iloc[0].keywords"
   ]
  },
  {
   "cell_type": "code",
   "execution_count": null,
   "id": "b158c5d7",
   "metadata": {},
   "outputs": [],
   "source": [
    "movies['keywords']= movies['keywords'].apply(convert)"
   ]
  },
  {
   "cell_type": "code",
   "execution_count": null,
   "id": "1cf18b8c",
   "metadata": {},
   "outputs": [],
   "source": [
    "movies.head(1)"
   ]
  },
  {
   "cell_type": "code",
   "execution_count": null,
   "id": "e639d718",
   "metadata": {},
   "outputs": [],
   "source": [
    "movies.iloc[0].cast"
   ]
  },
  {
   "cell_type": "code",
   "execution_count": null,
   "id": "9b50cd7e",
   "metadata": {},
   "outputs": [],
   "source": [
    "# we are doing this to take only first 3 dictionaries,, first 3 names only\n",
    "def convert3(obj):\n",
    "    L =[]\n",
    "    counter=0\n",
    "    for i in ast.literal_eval(obj):\n",
    "        if counter!=3:\n",
    "            L.append(i['name'])\n",
    "            counter+=1\n",
    "        else:\n",
    "            break;\n",
    "    return L"
   ]
  },
  {
   "cell_type": "code",
   "execution_count": null,
   "id": "a2429c40",
   "metadata": {},
   "outputs": [],
   "source": [
    "movies['cast'] = movies['cast'].apply(convert3)"
   ]
  },
  {
   "cell_type": "code",
   "execution_count": null,
   "id": "ae0f259b",
   "metadata": {},
   "outputs": [],
   "source": [
    "movies.head(1)"
   ]
  },
  {
   "cell_type": "code",
   "execution_count": null,
   "id": "a1d31fd0",
   "metadata": {},
   "outputs": [],
   "source": [
    "movies.iloc[0].crew"
   ]
  },
  {
   "cell_type": "code",
   "execution_count": null,
   "id": "9a013cc1",
   "metadata": {},
   "outputs": [],
   "source": [
    "# for crew jisme job ka value is only director\n",
    "def fetch_director(obj):\n",
    "    L =[]\n",
    "    for i in ast.literal_eval(obj):\n",
    "        if i['job']== 'Director':\n",
    "            L.append(i['name'])\n",
    "            break;\n",
    "    return L"
   ]
  },
  {
   "cell_type": "code",
   "execution_count": null,
   "id": "9630db79",
   "metadata": {},
   "outputs": [],
   "source": [
    "movies['crew'] = movies['crew'].apply(fetch_director)"
   ]
  },
  {
   "cell_type": "code",
   "execution_count": null,
   "id": "1167a3f5",
   "metadata": {},
   "outputs": [],
   "source": [
    "movies.head(1)"
   ]
  },
  {
   "cell_type": "code",
   "execution_count": null,
   "id": "f161cb3a",
   "metadata": {},
   "outputs": [],
   "source": [
    "movies['overview'][0]\n",
    "# yeh ek string h isko hum list me convert krenge"
   ]
  },
  {
   "cell_type": "code",
   "execution_count": null,
   "id": "6ab416ae",
   "metadata": {},
   "outputs": [],
   "source": [
    "# yeh krne se ek pura sentence alag alag string me chala jata haias a List\n",
    "movies['overview'] = movies['overview'].apply(lambda x:x.split())"
   ]
  },
  {
   "cell_type": "code",
   "execution_count": null,
   "id": "70215fd3",
   "metadata": {},
   "outputs": [],
   "source": [
    "movies.head(1)"
   ]
  },
  {
   "cell_type": "code",
   "execution_count": null,
   "id": "8463e2c6",
   "metadata": {},
   "outputs": [],
   "source": [
    "# hum ab yeh list ko concatinate krenge aur fir yeh list ko vapas string me convert krdenge fir woh bda sa paragraph bn jaega and we will use that as a tag\n",
    "# now keywords me jo bhi spaces hai woh bhi hatana pdega nahi toh woh name or surname ko alag consider krega, yeh cheez hum har jagah krenge\n",
    "movies['cast'] = movies['cast'].apply(lambda x:[i.replace(\" \",\"\") for i in x])\n",
    "movies['genres'] = movies['genres'].apply(lambda x:[i.replace(\" \",\"\") for i in x])\n",
    "movies['keywords'] = movies['keywords'].apply(lambda x:[i.replace(\" \",\"\") for i in x])\n",
    "movies['crew'] = movies['crew'].apply(lambda x:[i.replace(\" \",\"\") for i in x])"
   ]
  },
  {
   "cell_type": "code",
   "execution_count": null,
   "id": "1af04c44",
   "metadata": {},
   "outputs": [],
   "source": [
    "movies.head(1)"
   ]
  },
  {
   "cell_type": "code",
   "execution_count": null,
   "id": "49063353",
   "metadata": {},
   "outputs": [],
   "source": [
    "movies['tag'] = movies['overview'] + movies['cast'] + movies['genres'] + movies['keywords'] + movies['crew']"
   ]
  },
  {
   "cell_type": "code",
   "execution_count": null,
   "id": "e37da242",
   "metadata": {},
   "outputs": [],
   "source": [
    "df = movies[['movie_id', 'title', 'tag']]\n",
    "df.head()"
   ]
  },
  {
   "cell_type": "code",
   "execution_count": null,
   "id": "3f8acc49",
   "metadata": {},
   "outputs": [],
   "source": [
    "df['tag'] = df['tag'].apply(lambda x: \" \".join(x))\n",
    "# df['tag']"
   ]
  },
  {
   "cell_type": "code",
   "execution_count": null,
   "id": "d1bdd476",
   "metadata": {},
   "outputs": [],
   "source": [
    "# sabko lower case me daaldo\n",
    "df['tag'] = df['tag'].apply(lambda x: x.lower())\n",
    "\n",
    "# df['tag'][0]"
   ]
  },
  {
   "cell_type": "markdown",
   "id": "9c5a9d25",
   "metadata": {},
   "source": [
    "#we need to convert texts into vectors and then somehow choose the closet vectors for the output this is known as text vectorization , we using bag of words this technique works like : first you combine all the tags for eg you wil have 5lakhs words when you combine and then you combine all the tags and it becomes the large text and usme 5000 most common words nikalnege (eh calculate kroge) uske baad hum vapas se single tag lenge and for example w1 = action hai and woh 10 baar use kiya hai ause hi top 5000 words nikal lenge and woh kitni baar use hue h \n",
    "yeh hum krne ke baad har ek movie ek liye krenge fir will do same thing for second movie and so on\n",
    "#during this we will remove stop words like are,am,from,to etc\n",
    "\n"
   ]
  },
  {
   "cell_type": "code",
   "execution_count": null,
   "id": "ddb6e39b",
   "metadata": {},
   "outputs": [],
   "source": [
    "from sklearn.feature_extraction.text import CountVectorizer\n",
    "cv = CountVectorizer(max_features=5000, stop_words='english')"
   ]
  },
  {
   "cell_type": "code",
   "execution_count": null,
   "id": "46e17055",
   "metadata": {},
   "outputs": [],
   "source": [
    "# to change into munpy array\n",
    "cv.fit_transform(df['tag']).toarray().shape"
   ]
  },
  {
   "cell_type": "code",
   "execution_count": null,
   "id": "ca70125e",
   "metadata": {},
   "outputs": [],
   "source": [
    "vectors = cv.fit_transform(df['tag']).toarray()\n",
    "# humne 5000 words liye h ab isme mostly 0 aaega kyuki ek tag me sab 5000 words toh nahi rhenge na\n",
    "vectors"
   ]
  },
  {
   "cell_type": "code",
   "execution_count": null,
   "id": "249fd486",
   "metadata": {},
   "outputs": [],
   "source": [
    "#yeh woh 5000 words hai jo humne select kre hai \n",
    "# cv.get_feature_names()\n",
    "# yeh stemming ke baad krenge"
   ]
  },
  {
   "cell_type": "code",
   "execution_count": null,
   "id": "6305069b",
   "metadata": {},
   "outputs": [],
   "source": [
    "# applying steming kyuki there are various similar words like action , actions , or love , loved, loving yeh steming isko love me convert krdega teeno ko\n",
    "# !pip install nltk\n",
    "import nltk\n",
    "from nltk.stem.porter import PorterStemmer\n",
    "ps = PorterStemmer()"
   ]
  },
  {
   "cell_type": "code",
   "execution_count": null,
   "id": "c3a08660",
   "metadata": {},
   "outputs": [],
   "source": [
    "# making a fucntion\n",
    "def stem(text):\n",
    "    y = []\n",
    "    \n",
    "    for i in text.split():\n",
    "        y.append(ps.stem(i))\n",
    "    return \" \".join(y)"
   ]
  },
  {
   "cell_type": "code",
   "execution_count": null,
   "id": "84726776",
   "metadata": {},
   "outputs": [],
   "source": [
    "# ps.stem(\"loved\")\n",
    "# ps.stem(\"loving\") same output LOVE\n"
   ]
  },
  {
   "cell_type": "code",
   "execution_count": null,
   "id": "eaa6f2de",
   "metadata": {},
   "outputs": [],
   "source": [
    "stem(\"'in the 22nd century, a paraplegic marine is dispatched to the moon pandora on a unique mission, but becomes torn between following orders and protecting an alien civilization. samworthington zoesaldana sigourneyweaver action adventure fantasy sciencefiction cultureclash future spacewar spacecolony society spacetravel futuristic romance space alien tribe alienplanet cgi marine soldier battle loveaffair antiwar powerrelations mindandsoul 3d jamescameron'\")\n",
    "# now you will see some words meaning has been changed"
   ]
  },
  {
   "cell_type": "code",
   "execution_count": null,
   "id": "ecf98c43",
   "metadata": {},
   "outputs": [],
   "source": [
    "df['tag'] = df['tag'].apply(stem)"
   ]
  },
  {
   "cell_type": "code",
   "execution_count": null,
   "id": "7a840286",
   "metadata": {},
   "outputs": [],
   "source": [
    "df.head(1)"
   ]
  },
  {
   "cell_type": "code",
   "execution_count": null,
   "id": "545fa5f2",
   "metadata": {},
   "outputs": [],
   "source": [
    " cv.get_feature_names()"
   ]
  },
  {
   "cell_type": "code",
   "execution_count": null,
   "id": "62bfdb51",
   "metadata": {},
   "outputs": [],
   "source": [
    "#we will use cosine distance for similarity , jtna thetha chota h utni similarity jyadda and vica vera\n",
    "# cosine distance bhhi hota h\n",
    "from sklearn.metrics.pairwise import cosine_similarity\n",
    "#  iska mtlb pheli movie ka baaki 4806 movie ke sath ka distance nikalna and same with rest of the movies\n",
    "similarity = cosine_similarity(vectors)"
   ]
  },
  {
   "cell_type": "code",
   "execution_count": null,
   "id": "e54e4c74",
   "metadata": {},
   "outputs": [],
   "source": [
    "# yeh pheli movie ka baaki movie ke sath similarity btarha h \n",
    "similarity[1]"
   ]
  },
  {
   "cell_type": "code",
   "execution_count": null,
   "id": "c5842149",
   "metadata": {},
   "outputs": [],
   "source": [
    "# ab ise andar via movie index se hum similarity me ghusenge, \n",
    "# for example avatar ka 1 h index toh hum similarity matrix me gaye \n",
    "# and usme hum baaki 4806 ke sath similarity match krenge \n",
    "# and unko sort krenge and top 5 nikal lenge\n",
    "# how to find index of a particulr movie\n",
    "df[df['title'] == 'Batman Begins'].index\n",
    "df[df['title'] == 'Batman Begins'].index[0]\n",
    "# ab humko sort bhi krna h woh kaise krenge using sorting fucntion lekin \n",
    "# woh krenge toh mvoies ka index hil jaega isliye enumerate use krenge jisse movie ke sath value change ho\n",
    "# iska mtlb 0 movie ka distance 1st movie se itna h and so on ab isko list me convert krenge and then sorting\n",
    "list(enumerate(similarity[0]))"
   ]
  },
  {
   "cell_type": "code",
   "execution_count": null,
   "id": "120c36c1",
   "metadata": {},
   "outputs": [],
   "source": [
    "# iska mtlb hume first wale se sorting nahi krna h second se krna h \n",
    "# sorted(list(enumerate(similarity[0])), reverse = True,key = lambda x:x[1])\n",
    "sorted(list(enumerate(similarity[119])), reverse = True,key = lambda x:x[1])[1:6]\n",
    "# ab 1216 similar movie h hmari avatar movie se\n",
    "    "
   ]
  },
  {
   "cell_type": "code",
   "execution_count": null,
   "id": "449be56e",
   "metadata": {},
   "outputs": [],
   "source": [
    "def recommend(movie):\n",
    "    movie_index = df[df['title'] == movie].index[0]\n",
    "    distances = similarity[movie_index]\n",
    "    movies_list = sorted(list(enumerate(distances)), reverse = True,key = lambda x:x[1])[1:6]\n",
    "    \n",
    "    for i in movies_list:\n",
    "#     iska mtlb five movies DEGA\n",
    "        print(df.iloc[i[0]].title)"
   ]
  },
  {
   "cell_type": "code",
   "execution_count": null,
   "id": "bddb5850",
   "metadata": {},
   "outputs": [],
   "source": [
    "recommend('Batman Begins')"
   ]
  },
  {
   "cell_type": "code",
   "execution_count": null,
   "id": "2696fabc",
   "metadata": {},
   "outputs": [],
   "source": []
  }
 ],
 "metadata": {
  "kernelspec": {
   "display_name": "Python 3 (ipykernel)",
   "language": "python",
   "name": "python3"
  },
  "language_info": {
   "codemirror_mode": {
    "name": "ipython",
    "version": 3
   },
   "file_extension": ".py",
   "mimetype": "text/x-python",
   "name": "python",
   "nbconvert_exporter": "python",
   "pygments_lexer": "ipython3",
   "version": "3.10.6"
  }
 },
 "nbformat": 4,
 "nbformat_minor": 5
}
